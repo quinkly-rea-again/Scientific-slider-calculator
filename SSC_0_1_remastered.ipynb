{
  "nbformat": 4,
  "nbformat_minor": 0,
  "metadata": {
    "colab": {
      "provenance": []
    },
    "kernelspec": {
      "name": "python3",
      "display_name": "Python 3"
    },
    "language_info": {
      "name": "python"
    }
  },
  "cells": [
    {
      "cell_type": "code",
      "execution_count": null,
      "metadata": {
        "id": "yeslbxiCldcM"
      },
      "outputs": [],
      "source": [
        "Real = -3.61 # @param {type:\"slider\", min:-10, max:10, step:0.01}\n",
        "Imaginary = 2.51 # @param {type:\"slider\", min:-10, max:10, step:0.01}\n",
        "print(\"Welcome to the remastered version of SSC!\")"
      ]
    }
  ]
}